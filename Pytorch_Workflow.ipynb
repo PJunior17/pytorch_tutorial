{
  "nbformat": 4,
  "nbformat_minor": 0,
  "metadata": {
    "colab": {
      "provenance": [],
      "authorship_tag": "ABX9TyM+CLs5TM1HVXboffsEimkz",
      "include_colab_link": true
    },
    "kernelspec": {
      "name": "python3",
      "display_name": "Python 3"
    },
    "language_info": {
      "name": "python"
    }
  },
  "cells": [
    {
      "cell_type": "markdown",
      "metadata": {
        "id": "view-in-github",
        "colab_type": "text"
      },
      "source": [
        "<a href=\"https://colab.research.google.com/github/PJunior17/pytorch_tutorial/blob/main/Pytorch_Workflow.ipynb\" target=\"_parent\"><img src=\"https://colab.research.google.com/assets/colab-badge.svg\" alt=\"Open In Colab\"/></a>"
      ]
    },
    {
      "cell_type": "markdown",
      "source": [
        "# Pytorch Workflow\n",
        "\n",
        "We will be doing an end to end on one particular workflow for pytorch"
      ],
      "metadata": {
        "id": "NPblF6alhWBE"
      }
    },
    {
      "cell_type": "markdown",
      "source": [
        "## The work flow is as follows\n",
        " 1. Prepare and Load data\n",
        " 2. Build the model\n",
        " 3. Fit the model to the data\n",
        " 4. Making predictions and evaluating the model\n",
        " 5. Saving and loading the model\n",
        " 6. Putting it all together"
      ],
      "metadata": {
        "id": "UBsUEBlBiajq"
      }
    },
    {
      "cell_type": "code",
      "source": [],
      "metadata": {
        "id": "h-oX_3-piHV-"
      },
      "execution_count": null,
      "outputs": []
    },
    {
      "cell_type": "markdown",
      "source": [
        "# Code"
      ],
      "metadata": {
        "id": "idvQeNLqiw0l"
      }
    },
    {
      "cell_type": "code",
      "source": [
        "import torch\n",
        "from torch import nn\n",
        "import matplotlib.pyplot as plt"
      ],
      "metadata": {
        "id": "3tWv-P_Uixq9"
      },
      "execution_count": 1,
      "outputs": []
    },
    {
      "cell_type": "markdown",
      "source": [
        "## Preparing and Loading Data"
      ],
      "metadata": {
        "id": "jIJw2QaljPLU"
      }
    },
    {
      "cell_type": "code",
      "source": [
        "# create known parameters\n",
        "weight = 0.7\n",
        "bias = 0.3\n",
        "\n",
        "# create data\n",
        "start = 0\n",
        "end = 1\n",
        "step = 0.02\n",
        "#this will make a tensor from 0 to 1 where each element is 0.02 away from each other\n",
        "#this should make 50 elements\n",
        "X = torch.arange(start, end, step).unsqueeze(dim=1)\n",
        "#linear regression\n",
        "y = weight * X + bias\n",
        "\n",
        "X[:10], y[:10], len(X), len(y)"
      ],
      "metadata": {
        "colab": {
          "base_uri": "https://localhost:8080/"
        },
        "id": "CkA1HXa3jX4h",
        "outputId": "d209d043-c793-4b1f-d8d0-6045669c4c4e"
      },
      "execution_count": 23,
      "outputs": [
        {
          "output_type": "execute_result",
          "data": {
            "text/plain": [
              "(tensor([[0.0000],\n",
              "         [0.0200],\n",
              "         [0.0400],\n",
              "         [0.0600],\n",
              "         [0.0800],\n",
              "         [0.1000],\n",
              "         [0.1200],\n",
              "         [0.1400],\n",
              "         [0.1600],\n",
              "         [0.1800]]),\n",
              " tensor([[0.3000],\n",
              "         [0.3140],\n",
              "         [0.3280],\n",
              "         [0.3420],\n",
              "         [0.3560],\n",
              "         [0.3700],\n",
              "         [0.3840],\n",
              "         [0.3980],\n",
              "         [0.4120],\n",
              "         [0.4260]]),\n",
              " 50,\n",
              " 50)"
            ]
          },
          "metadata": {},
          "execution_count": 23
        }
      ]
    },
    {
      "cell_type": "markdown",
      "source": [
        "### Splitting data into training and test sets"
      ],
      "metadata": {
        "id": "JN7gnx9hkKl-"
      }
    },
    {
      "cell_type": "code",
      "source": [
        "# Create the train test split\n",
        "train_split = int(0.8*len(X))\n",
        "X_train, y_train = X[:train_split], y[:train_split]\n",
        "X_test, y_test = X[train_split:], y[train_split:]\n",
        "\n",
        "len(X_train), len(y_train), len(X_test), len(y_test)"
      ],
      "metadata": {
        "colab": {
          "base_uri": "https://localhost:8080/"
        },
        "id": "mycI6B6PAj1T",
        "outputId": "c6f6cd40-28b6-420e-a9bf-544024b3ba0d"
      },
      "execution_count": 24,
      "outputs": [
        {
          "output_type": "execute_result",
          "data": {
            "text/plain": [
              "(40, 40, 10, 10)"
            ]
          },
          "metadata": {},
          "execution_count": 24
        }
      ]
    },
    {
      "cell_type": "code",
      "source": [
        "def plot_predictions(train_data=X_train,\n",
        "                     train_labels=y_train,\n",
        "                     test_data=X_test,\n",
        "                     test_labels=y_test,\n",
        "                     predictions=None):\n",
        "  plt.figure(figsize=(10,7))\n",
        "\n",
        "  #plots the training data\n",
        "  plt.scatter(train_data, train_labels, c='b', s=4, label='Training Data')\n",
        "\n",
        "  #plots the test data\n",
        "  plt.scatter(test_data, test_labels, c='r', s=4, label='Testing Data')\n",
        "\n",
        "  #are there predicitons to plot?\n",
        "  if predictions is not None:\n",
        "    plt.scatter(test_data, predictions, c='g', s=4, label='Predictions')\n",
        "\n",
        "  #show the legend\n",
        "  plt.legend(prop={'size':14})\n"
      ],
      "metadata": {
        "id": "qBaGX9xfBdCj"
      },
      "execution_count": 25,
      "outputs": []
    },
    {
      "cell_type": "code",
      "source": [
        "plot_predictions()"
      ],
      "metadata": {
        "colab": {
          "base_uri": "https://localhost:8080/",
          "height": 599
        },
        "id": "3YqQK0cvE5p7",
        "outputId": "ac88ee68-d25f-4e3b-bf4e-85eb582f4b8f"
      },
      "execution_count": 26,
      "outputs": [
        {
          "output_type": "display_data",
          "data": {
            "text/plain": [
              "<Figure size 1000x700 with 1 Axes>"
            ],
            "image/png": "[encoded data removed]"
          },
          "metadata": {}
        }
      ]
    },
    {
      "cell_type": "markdown",
      "source": [
        "## Build the model"
      ],
      "metadata": {
        "id": "UjOFIzI7E731"
      }
    },
    {
      "cell_type": "code",
      "source": [
        "class LinearRegressionModel(nn.Module):\n",
        "  def __init__(self):\n",
        "    super().__init__()\n",
        "    self.weights = nn.Parameter(torch.randn(1,\n",
        "                                            requires_grad=True,\n",
        "                                            dtype=torch.float))\n",
        "    self.bias = nn.Parameter(torch.randn(1,\n",
        "                                         requires_grad=True,\n",
        "                                         dtype=torch.float))\n",
        "\n",
        "  def forward(self, x: torch.Tensor) -> torch.Tensor:\n",
        "    return self.weights * x + self.bias\n",
        ""
      ],
      "metadata": {
        "id": "cXJn_iE0F2tj"
      },
      "execution_count": 32,
      "outputs": []
    },
    {
      "cell_type": "code",
      "source": [
        "torch.manual_seed(17)\n",
        "\n",
        "model_0 = LinearRegressionModel()\n",
        "\n",
        "list(model_0.parameters())"
      ],
      "metadata": {
        "colab": {
          "base_uri": "https://localhost:8080/"
        },
        "id": "AVeeCqq1OzQI",
        "outputId": "89798d9b-8847-4a30-ff0f-a65836896574"
      },
      "execution_count": 33,
      "outputs": [
        {
          "output_type": "execute_result",
          "data": {
            "text/plain": [
              "[Parameter containing:\n",
              " tensor([-1.4135], requires_grad=True),\n",
              " Parameter containing:\n",
              " tensor([0.2336], requires_grad=True)]"
            ]
          },
          "metadata": {},
          "execution_count": 33
        }
      ]
    },
    {
      "cell_type": "code",
      "source": [
        "#the goal is to get the model to our ideal values, our weight and bias that we instantiated earlier\n",
        "model_0.state_dict(), weight, bias"
      ],
      "metadata": {
        "colab": {
          "base_uri": "https://localhost:8080/"
        },
        "id": "oAR3dPcyeiEY",
        "outputId": "e8364201-86bf-4a58-f71f-f8e2b05b5f69"
      },
      "execution_count": 34,
      "outputs": [
        {
          "output_type": "execute_result",
          "data": {
            "text/plain": [
              "(OrderedDict([('weights', tensor([-1.4135])), ('bias', tensor([0.2336]))]),\n",
              " 0.7,\n",
              " 0.3)"
            ]
          },
          "metadata": {},
          "execution_count": 34
        }
      ]
    },
    {
      "cell_type": "code",
      "source": [
        "# Make predictions with torch.inference_mode()\n",
        "#using inference mode with the predictions tells pytorch to not keep track of the gradient data\n",
        "#this can help your program not keep track of too much data and use power for other tasks\n",
        "with torch.inference_mode():\n",
        "  y_preds = model_0(X_test)\n",
        "\n",
        "y_preds"
      ],
      "metadata": {
        "colab": {
          "base_uri": "https://localhost:8080/"
        },
        "id": "Ghqy_Ndwfq8w",
        "outputId": "045731f4-934c-448e-8ee9-8b23347ece04"
      },
      "execution_count": 37,
      "outputs": [
        {
          "output_type": "execute_result",
          "data": {
            "text/plain": [
              "tensor([[-0.8972],\n",
              "        [-0.9254],\n",
              "        [-0.9537],\n",
              "        [-0.9820],\n",
              "        [-1.0103],\n",
              "        [-1.0385],\n",
              "        [-1.0668],\n",
              "        [-1.0951],\n",
              "        [-1.1233],\n",
              "        [-1.1516]])"
            ]
          },
          "metadata": {},
          "execution_count": 37
        }
      ]
    },
    {
      "cell_type": "code",
      "source": [
        "plot_predictions(predictions=y_preds)"
      ],
      "metadata": {
        "colab": {
          "base_uri": "https://localhost:8080/",
          "height": 599
        },
        "id": "8EuEJmTHg57o",
        "outputId": "0cf71ef4-1f24-4c6e-ea81-fc0ef480ec06"
      },
      "execution_count": 36,
      "outputs": [
        {
          "output_type": "display_data",
          "data": {
            "text/plain": [
              "<Figure size 1000x700 with 1 Axes>"
            ],
            "image/png": "[encoded data removed]"
          },
          "metadata": {}
        }
      ]
    },
    {
      "cell_type": "code",
      "source": [],
      "metadata": {
        "id": "16FEHRIxhn0B"
      },
      "execution_count": null,
      "outputs": []
    },
    {
      "cell_type": "markdown",
      "source": [
        "## Train the Model"
      ],
      "metadata": {
        "id": "OmhtQEBoitvV"
      }
    },
    {
      "cell_type": "code",
      "source": [
        "# Setup a loss function\n",
        "loss_fn = nn.L1Loss()\n",
        "\n",
        "# Setup an optimizer\n",
        "optimizer = torch.optim.SGD(params=model_0.parameters(),\n",
        "                            lr = 1e-3)\n"
      ],
      "metadata": {
        "id": "rNi2c9HIiwOp"
      },
      "execution_count": 38,
      "outputs": []
    },
    {
      "cell_type": "markdown",
      "source": [
        "### Build a training and testing loop"
      ],
      "metadata": {
        "id": "maITtvi-kjBV"
      }
    },
    {
      "cell_type": "code",
      "source": [
        "epochs = 1\n",
        "#training loop\n",
        "\n",
        "#loop through data\n",
        "for epoch in range(epochs):\n",
        "  model_0.train() #sets all parameters that require a gradient to require a gradient\n",
        "\n",
        "  #forward propagation\n",
        "  y_pred = model_0(X_train)\n",
        "\n",
        "  #loss function\n",
        "  loss = loss_fn(y_pred, y_train)\n",
        "\n",
        "  #optimizer zero grad\n",
        "  optimizer.zero_grad()\n",
        "\n",
        "  #back propagation\n",
        "  loss.backward()\n",
        "\n",
        "  #gradient descent\n",
        "  optimizer.step()\n",
        "\n"
      ],
      "metadata": {
        "id": "mXqbCspkknMP"
      },
      "execution_count": null,
      "outputs": []
    }
  ]
}